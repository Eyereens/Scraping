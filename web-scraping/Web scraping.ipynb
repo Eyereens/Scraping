{
 "cells": [
  {
   "cell_type": "code",
   "execution_count": null,
   "id": "ab026938",
   "metadata": {},
   "outputs": [],
   "source": [
    "import pandas as pd\n",
    "from selenium.webdriver import Chrome\n",
    "from selenium.webdriver.common.keys import Keys\n",
    "from selenium.webdriver.support.ui import WebDriverWait\n",
    "from selenium.webdriver.support import expected_conditions as EC\n",
    "from selenium.common.exceptions import NoSuchElementException\n",
    "from selenium.webdriver.common.by import By\n",
    "from bs4 import BeautifulSoup\n",
    "from time import sleep\n",
    "from tqdm import tqdm"
   ]
  },
  {
   "cell_type": "code",
   "execution_count": null,
   "id": "b75391d0",
   "metadata": {},
   "outputs": [],
   "source": [
    "raw_2022 = []\n",
    "\n",
    "driver = Chrome('/Users/4910007/Downloads/chromedriver.exe')\n",
    "url_22 = 'https://fgis.gost.ru/fundmetrology/cm/results?filter_mi_mitnumber=XXXXX-XX&rows=100&activeYear=2022' #ГОД 2022\n",
    "driver.get(url_22)\n",
    "soup = BeautifulSoup(driver.page_source, 'lxml')\n",
    "\n",
    "sleep(30)\n",
    "\n",
    "all_pages = driver.find_element(By.CSS_SELECTOR, 'body > div > div > div.content > div > div > div.col-md-34.col-sm-36 > div:nth-child(4) > div:nth-child(1) > div > div > div.col-md-18.col-36.block_pagination_stat > span').text\n",
    "count_pages = str(all_pages).rsplit(' ')\n",
    "pages = int(count_pages[4]) // 100 + 1\n",
    "pages\n",
    "\n",
    "for p in range(pages): \n",
    "    \n",
    "    sleep(10)\n",
    "    \n",
    "    soup = BeautifulSoup(driver.page_source, 'lxml')\n",
    "\n",
    "    for i in soup.find('table', class_='table table-striped table-hover').find('tbody').findAll('tr'):\n",
    "        certificate_number = i.findAll('td')[8].text\n",
    "        raw_2022.append(certificate_number)\n",
    "        print(certificate_number)\n",
    "\n",
    "\n",
    "    print(p)\n",
    "    \n",
    "    while True:\n",
    "        try:\n",
    "            next_button = driver.find_element(By.PARTIAL_LINK_TEXT, 'Следующая')\n",
    "            next_button.click()\n",
    "        except:\n",
    "            break\n",
    "    \n",
    "    sleep(10)"
   ]
  },
  {
   "cell_type": "code",
   "execution_count": null,
   "id": "5ca0798b",
   "metadata": {},
   "outputs": [],
   "source": [
    "urls = []\n",
    "\n",
    "for a in reg_raw:\n",
    "    parts = a.rsplit('/', 2)\n",
    "    urls.append('https://fgis.gost.ru/fundmetrology/cm/results/1-'+parts[2])"
   ]
  },
  {
   "cell_type": "code",
   "execution_count": null,
   "id": "28224b75",
   "metadata": {},
   "outputs": [],
   "source": [
    "urls"
   ]
  },
  {
   "cell_type": "code",
   "execution_count": null,
   "id": "6227c097",
   "metadata": {},
   "outputs": [],
   "source": [
    "len(urls)"
   ]
  },
  {
   "cell_type": "code",
   "execution_count": null,
   "id": "5d16ed61",
   "metadata": {},
   "outputs": [],
   "source": [
    "data = []\n",
    "\n",
    "for url in urls:\n",
    "    \n",
    "    try:\n",
    "\n",
    "        driver = Chrome('/Users/4910007/Downloads/chromedriver.exe')\n",
    "        driver.get(url)\n",
    "\n",
    "        soup = BeautifulSoup(driver.page_source, 'lxml')\n",
    "\n",
    "        reg_number_mi = driver.find_element(By.XPATH, \"/html/body/div/div/div[2]/div/div/div[2]/div[1]/div/table/tbody/tr[1]/td[1]\").text\n",
    "        type_mi = driver.find_element(By.XPATH, \"/html/body/div/div/div[2]/div/div/div[2]/div[1]/div/table/tbody/tr[2]/td[1]\").text\n",
    "        name_type_mi = driver.find_element(By.XPATH, \"/html/body/div/div/div[2]/div/div/div[2]/div[1]/div/table/tbody/tr[3]/td[1]\").text\n",
    "        factory_number_mi = driver.find_element(By.XPATH, \"/html/body/div/div/div[2]/div/div/div[2]/div[1]/div/table/tbody/tr[4]/td[1]\").text\n",
    "        modif_mi = driver.find_element(By.XPATH, \"/html/body/div/div/div[2]/div/div/div[2]/div[1]/div/table/tbody/tr[5]/td[1]\").text\n",
    "\n",
    "        reg_number = driver.find_element(By.XPATH, \"/html/body/div/div/div[2]/div/div/div[2]/div[1]/div/table/tbody/tr[1]/td[2]/a\").text\n",
    "        type_ = driver.find_element(By.XPATH, \"/html/body/div/div/div[2]/div/div/div[2]/div[1]/div/table/tbody/tr[2]/td[2]\").text\n",
    "        name_type = driver.find_element(By.XPATH, \"/html/body/div/div/div[2]/div/div/div[2]/div[1]/div/table/tbody/tr[3]/td[2]\").text\n",
    "        factory_number = driver.find_element(By.XPATH, \"/html/body/div/div/div[2]/div/div/div[2]/div[1]/div/table/tbody/tr[4]/td[2]\").text\n",
    "        modif_ = driver.find_element(By.XPATH, \"/html/body/div/div/div[2]/div/div/div[2]/div[1]/div/table/tbody/tr[5]/td[2]\").text\n",
    "\n",
    "        verif_org = driver.find_element(By.XPATH, \"/html/body/div/div/div[2]/div/div/div[2]/div[2]/div/table/tbody/tr[1]/td[1]\").text\n",
    "        owner_mi = driver.find_element(By.XPATH, \"/html/body/div/div/div[2]/div/div/div[2]/div[2]/div/table/tbody/tr[3]/td[1]\").text\n",
    "        verif_type = driver.find_element(By.XPATH, \"/html/body/div/div/div[2]/div/div/div[2]/div[2]/div/table/tbody/tr[4]/td[1]\").text\n",
    "        date_mi = driver.find_element(By.XPATH, \"/html/body/div/div/div[2]/div/div/div[2]/div[2]/div/table/tbody/tr[5]/td[1]\").text\n",
    "        valid_date = driver.find_element(By.XPATH, \"/html/body/div/div/div[2]/div/div/div[2]/div[2]/div/table/tbody/tr[6]/td[1]\").text\n",
    "\n",
    "        verif_org_ = driver.find_element(By.XPATH, \"/html/body/div/div/div[2]/div/div/div[2]/div[2]/div/table/tbody/tr[1]/td[2]\").text\n",
    "        owner_mi_ = driver.find_element(By.XPATH, \"/html/body/div/div/div[2]/div/div/div[2]/div[2]/div/table/tbody/tr[3]/td[2]\").text\n",
    "        verif_type_ = driver.find_element(By.XPATH, \"/html/body/div/div/div[2]/div/div/div[2]/div[2]/div/table/tbody/tr[4]/td[2]\").text\n",
    "        date_mi_ = driver.find_element(By.XPATH, \"/html/body/div/div/div[2]/div/div/div[2]/div[2]/div/table/tbody/tr[5]/td[2]\").text\n",
    "        valid_date_ = driver.find_element(By.XPATH, \"/html/body/div/div/div[2]/div/div/div[2]/div[2]/div/table/tbody/tr[6]/td[2]\").text\n",
    "    \n",
    "    except NoSuchElementException:  #spelling error making this code not work as expected\n",
    "        pass\n",
    "    \n",
    "    data.append([reg_number_mi, reg_number, type_mi, type_, name_type_mi, name_type, factory_number_mi, factory_number, \n",
    "                 modif_mi, modif_, verif_org, verif_org_, owner_mi, owner_mi_, verif_type, verif_type_, \n",
    "                 date_mi, date_mi_, valid_date, valid_date_])"
   ]
  },
  {
   "cell_type": "code",
   "execution_count": null,
   "id": "f827a02e",
   "metadata": {},
   "outputs": [],
   "source": [
    "data"
   ]
  },
  {
   "cell_type": "code",
   "execution_count": null,
   "id": "8a76fe72",
   "metadata": {},
   "outputs": [],
   "source": [
    "len(data)"
   ]
  },
  {
   "cell_type": "code",
   "execution_count": null,
   "id": "d02d5a90",
   "metadata": {},
   "outputs": [],
   "source": [
    "header = ['Регистрационный номер типа СИ', 'Регистрационный номер типа СИ', 'Тип СИ', 'Тип СИ', 'Наименование типа СИ',\n",
    "          'Наименование типа СИ','Заводской номер СИ', 'Заводской номер СИ','Модификация', 'Модификация',\n",
    "          'Наименование организации-поверителя', 'Наименование организации-поверителя',\n",
    "          'Владелец СИ', 'Владелец СИ', 'Тип поверки', 'Тип поверки', 'Дата поверки СИ', 'Дата поверки СИ', 'Поверка действительна до', 'Поверка действительна до']"
   ]
  },
  {
   "cell_type": "code",
   "execution_count": null,
   "id": "1dc0ab8a",
   "metadata": {},
   "outputs": [],
   "source": [
    "data_XXXXX_XX = pd.DataFrame(data, columns=header)\n",
    "print(data_XXXXX_XX)"
   ]
  },
  {
   "cell_type": "code",
   "execution_count": null,
   "id": "8b189ea0",
   "metadata": {},
   "outputs": [],
   "source": [
    "data_XXXXX_XX.to_excel('/Users/4910007/Desktop/Python/Out/data_XXXXX_XX.xlsx')"
   ]
  }
 ],
 "metadata": {
  "kernelspec": {
   "display_name": "Python 3",
   "language": "python",
   "name": "python3"
  },
  "language_info": {
   "codemirror_mode": {
    "name": "ipython",
    "version": 3
   },
   "file_extension": ".py",
   "mimetype": "text/x-python",
   "name": "python",
   "nbconvert_exporter": "python",
   "pygments_lexer": "ipython3",
   "version": "3.8.8"
  }
 },
 "nbformat": 4,
 "nbformat_minor": 5
}

